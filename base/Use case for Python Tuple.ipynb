{
 "cells": [
  {
   "cell_type": "markdown",
   "id": "happy-cursor",
   "metadata": {},
   "source": [
    "# Use case for Python Tuple"
   ]
  },
  {
   "cell_type": "markdown",
   "id": "behind-stanley",
   "metadata": {},
   "source": [
    "Most Python programmers are guilty (me included) of always using List without even considering Tuple at all. Surely for some use cases, Tuple should be better right? Keep reading for one such case."
   ]
  },
  {
   "cell_type": "markdown",
   "id": "ahead-robert",
   "metadata": {},
   "source": [
    "# Tuple Introduction"
   ]
  },
  {
   "cell_type": "markdown",
   "id": "portable-petroleum",
   "metadata": {},
   "source": [
    "Tuple is like List but immutable so it has lesser in built methods. Tuples are faster than Lists, it is noticeable only when size of the tuple is considerably large.If you want a refresher, check out this [blog](https://medium.com/@GalarnykMichael/python-tuples-and-tuple-methods-4817a6bb6fff) by [Michael Galarnyk](https://medium.com/@GalarnykMichael).\n"
   ]
  },
  {
   "cell_type": "markdown",
   "id": "christian-three",
   "metadata": {},
   "source": [
    "# Caveat"
   ]
  },
  {
   "cell_type": "markdown",
   "id": "sorted-covering",
   "metadata": {},
   "source": [
    "A general rule of thumb is to use Tuple when the data will or should not change."
   ]
  },
  {
   "cell_type": "code",
   "execution_count": 10,
   "id": "surgical-merchant",
   "metadata": {},
   "outputs": [
    {
     "ename": "TypeError",
     "evalue": "'tuple' object does not support item assignment",
     "output_type": "error",
     "traceback": [
      "\u001b[0;31m---------------------------------------------------------------------------\u001b[0m",
      "\u001b[0;31mTypeError\u001b[0m                                 Traceback (most recent call last)",
      "\u001b[0;32m<ipython-input-10-ff991a2b2c51>\u001b[0m in \u001b[0;36m<module>\u001b[0;34m\u001b[0m\n\u001b[1;32m      1\u001b[0m \u001b[0mtup\u001b[0m \u001b[0;34m=\u001b[0m \u001b[0;34m(\u001b[0m\u001b[0;36m1\u001b[0m\u001b[0;34m,\u001b[0m\u001b[0;34m[\u001b[0m\u001b[0;36m2\u001b[0m\u001b[0;34m]\u001b[0m\u001b[0;34m)\u001b[0m\u001b[0;34m\u001b[0m\u001b[0;34m\u001b[0m\u001b[0m\n\u001b[0;32m----> 2\u001b[0;31m \u001b[0mtup\u001b[0m\u001b[0;34m[\u001b[0m\u001b[0;36m0\u001b[0m\u001b[0;34m]\u001b[0m \u001b[0;34m=\u001b[0m \u001b[0;36m3\u001b[0m\u001b[0;34m\u001b[0m\u001b[0;34m\u001b[0m\u001b[0m\n\u001b[0m",
      "\u001b[0;31mTypeError\u001b[0m: 'tuple' object does not support item assignment"
     ]
    }
   ],
   "source": [
    "tup = (1,[2])\n",
    "tup[0] = 3"
   ]
  },
  {
   "cell_type": "markdown",
   "id": "precise-cabin",
   "metadata": {},
   "source": [
    "This does not mean you really can't change a tuple element. If the underlying tuple element is mutable then we can change it. This could lead to unintended side effects. For example, children/inherited class can modify a tuple element initialised by the parent class."
   ]
  },
  {
   "cell_type": "code",
   "execution_count": 14,
   "id": "toxic-clinic",
   "metadata": {},
   "outputs": [
    {
     "name": "stdout",
     "output_type": "stream",
     "text": [
      "(1, [2, 3])\n"
     ]
    }
   ],
   "source": [
    "tup[1].append(3)\n",
    "print(tup)"
   ]
  },
  {
   "cell_type": "markdown",
   "id": "viral-format",
   "metadata": {},
   "source": [
    "# Use Case"
   ]
  },
  {
   "cell_type": "markdown",
   "id": "electric-pursuit",
   "metadata": {},
   "source": [
    "Personally, I am more into Deep Learning and have to deal with image files a lot. Image files have many popular formats like jpg, png and svg etc. We often have a situation where we have to find all files of certain types from a folder. There are many ways of going about this. We will explore few options."
   ]
  },
  {
   "cell_type": "markdown",
   "id": "seasonal-nickname",
   "metadata": {},
   "source": [
    "## Option 1: Using List"
   ]
  },
  {
   "cell_type": "code",
   "execution_count": 18,
   "id": "universal-stream",
   "metadata": {},
   "outputs": [
    {
     "name": "stdout",
     "output_type": "stream",
     "text": [
      "1.77 µs ± 22.5 ns per loop (mean ± std. dev. of 7 runs, 1000000 loops each)\n"
     ]
    }
   ],
   "source": [
    "%%timeit\n",
    "# List of files in the folder\n",
    "all_files = ['cat.jpg', 'dog.png', 'report.docx', 'sales.csv']\n",
    "\n",
    "# List of image file extensions\n",
    "img_exts_lst = ['jpg','png']\n",
    "\n",
    "# Filter only image files \n",
    "img_files = [file for file in all_files for ext in img_exts_lst if file.endswith(ext)]\n",
    "\n",
    "#print(img_files) # ['cat.jpg', 'dog.png']"
   ]
  },
  {
   "cell_type": "markdown",
   "id": "alpha-network",
   "metadata": {},
   "source": [
    "The filtering based on the extension type is done with the help of *endswith* method. Since the *endswith* method does not accept list we are looping through all the extension elements.\n",
    "The code <u>looks readable</u> and takes about <u>2 microseconds</u> which is not bad, but for every extension type, we have to run through all the files one more time. I have a suspicion that we can much better."
   ]
  },
  {
   "cell_type": "markdown",
   "id": "informed-decrease",
   "metadata": {},
   "source": [
    "## Option 2: Using Tuple"
   ]
  },
  {
   "cell_type": "code",
   "execution_count": 15,
   "id": "contemporary-transmission",
   "metadata": {},
   "outputs": [
    {
     "name": "stdout",
     "output_type": "stream",
     "text": [
      "965 ns ± 24.9 ns per loop (mean ± std. dev. of 7 runs, 1000000 loops each)\n"
     ]
    }
   ],
   "source": [
    "%%timeit\n",
    "\n",
    "# List of files in the folder\n",
    "all_files = ['cat.jpg', 'dog.png', 'report.docx', 'sales.csv']\n",
    "\n",
    "# Tuple of image file extensions\n",
    "img_exts_tup = ('jpg','png')\n",
    "\n",
    "# Filter only image files \n",
    "img_files = [file for file in all_files if file.endswith(img_exts_tup)]\n",
    "\n",
    "#print(img_files) # ['cat.jpg', 'dog.png']"
   ]
  },
  {
   "cell_type": "markdown",
   "id": "maritime-morgan",
   "metadata": {},
   "source": [
    "Almost similar code but we are able to pass the entire Tuple as parameter to the *endswith* method. This removes the extra loop and makes the code even <u>shorter</u>. The code now runs <u>about 2 times faster.</u>"
   ]
  },
  {
   "cell_type": "markdown",
   "id": "italian-sperm",
   "metadata": {},
   "source": [
    "# Takeaway"
   ]
  },
  {
   "cell_type": "markdown",
   "id": "three-masters",
   "metadata": {},
   "source": [
    "Some methods like *startswith* and *endswith* accept Tuple as parameter, if the data does not change then better to use Tuple or convert List to Tuple before passing the data to the method. Tuples make the code look more elegant and run faster. Don't forget about the caveat. If you have any questions or thoughts, feel free to reach out via [Twitter](https://twitter.com/6aravind)."
   ]
  }
 ],
 "metadata": {
  "kernelspec": {
   "display_name": "Python 3",
   "language": "python",
   "name": "python3"
  },
  "language_info": {
   "codemirror_mode": {
    "name": "ipython",
    "version": 3
   },
   "file_extension": ".py",
   "mimetype": "text/x-python",
   "name": "python",
   "nbconvert_exporter": "python",
   "pygments_lexer": "ipython3",
   "version": "3.7.9"
  }
 },
 "nbformat": 4,
 "nbformat_minor": 5
}
